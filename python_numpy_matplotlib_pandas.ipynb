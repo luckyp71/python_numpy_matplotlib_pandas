{
 "cells": [
  {
   "cell_type": "markdown",
   "metadata": {},
   "source": [
    "<h1 align=\"center\"> Data Analysis using Numpy, Matplotlib, and Pandas in Python</h1>\n",
    "<br/><br/>\n",
    "![title](resources/python.png)"
   ]
  },
  {
   "cell_type": "markdown",
   "metadata": {},
   "source": [
    "## Importing the libraries needed\n",
    "Here we are importing: \n",
    "1. Numpy for creating array and numerical calculations\n",
    "2. Matplotlib for plotting \n",
    "3. Seaborn for beautifying the plot\n",
    "4. Pandas for data analysis"
   ]
  },
  {
   "cell_type": "code",
   "execution_count": 159,
   "metadata": {
    "collapsed": true
   },
   "outputs": [],
   "source": [
    "import numpy as np\n",
    "import matplotlib.pyplot as plt\n",
    "import seaborn\n",
    "import pandas as pd\n",
    "import warnings\n",
    "\n",
    "# Uncomment the code below to check the available plotting style\n",
    "#print(plt.style.available)\n",
    "\n",
    "warnings.filterwarnings('ignore')\n",
    "%matplotlib inline\n",
    "plt.style.use(\"fivethirtyeight\")\n",
    "seaborn.set()"
   ]
  },
  {
   "cell_type": "markdown",
   "metadata": {},
   "source": [
    "## Read data from excel file\n",
    "\n",
    "The file is included in this porject, you could find it under resources directory."
   ]
  },
  {
   "cell_type": "code",
   "execution_count": 160,
   "metadata": {
    "collapsed": true
   },
   "outputs": [],
   "source": [
    "sales_data2017 = pd.read_excel(\"resources/sales_data.xlsx\")"
   ]
  },
  {
   "cell_type": "markdown",
   "metadata": {},
   "source": [
    "## Display the first five rows of sales data  \n",
    "\n",
    "No matter how many rows your data have, with head method, only the first five rows that will be shown."
   ]
  },
  {
   "cell_type": "code",
   "execution_count": 161,
   "metadata": {
    "scrolled": true
   },
   "outputs": [
    {
     "data": {
      "text/html": [
       "<div>\n",
       "<style scoped>\n",
       "    .dataframe tbody tr th:only-of-type {\n",
       "        vertical-align: middle;\n",
       "    }\n",
       "\n",
       "    .dataframe tbody tr th {\n",
       "        vertical-align: top;\n",
       "    }\n",
       "\n",
       "    .dataframe thead th {\n",
       "        text-align: right;\n",
       "    }\n",
       "</style>\n",
       "<table border=\"1\" class=\"dataframe\">\n",
       "  <thead>\n",
       "    <tr style=\"text-align: right;\">\n",
       "      <th></th>\n",
       "      <th>item</th>\n",
       "      <th>sales_name</th>\n",
       "      <th>qty</th>\n",
       "      <th>unit_price</th>\n",
       "      <th>amount</th>\n",
       "      <th>transaction_date</th>\n",
       "      <th>due_date</th>\n",
       "    </tr>\n",
       "  </thead>\n",
       "  <tbody>\n",
       "    <tr>\n",
       "      <th>0</th>\n",
       "      <td>Laptop</td>\n",
       "      <td>Sales A</td>\n",
       "      <td>20</td>\n",
       "      <td>1500</td>\n",
       "      <td>30000</td>\n",
       "      <td>2017-04-07</td>\n",
       "      <td>2017-05-07</td>\n",
       "    </tr>\n",
       "    <tr>\n",
       "      <th>1</th>\n",
       "      <td>PC</td>\n",
       "      <td>Sales B</td>\n",
       "      <td>30</td>\n",
       "      <td>2000</td>\n",
       "      <td>60000</td>\n",
       "      <td>2018-02-02</td>\n",
       "      <td>2018-03-04</td>\n",
       "    </tr>\n",
       "    <tr>\n",
       "      <th>2</th>\n",
       "      <td>Mouse</td>\n",
       "      <td>Sales C</td>\n",
       "      <td>10</td>\n",
       "      <td>120</td>\n",
       "      <td>1200</td>\n",
       "      <td>2017-12-30</td>\n",
       "      <td>2018-01-29</td>\n",
       "    </tr>\n",
       "    <tr>\n",
       "      <th>3</th>\n",
       "      <td>Monitor</td>\n",
       "      <td>Sales A</td>\n",
       "      <td>40</td>\n",
       "      <td>400</td>\n",
       "      <td>16000</td>\n",
       "      <td>2017-11-02</td>\n",
       "      <td>2017-12-02</td>\n",
       "    </tr>\n",
       "  </tbody>\n",
       "</table>\n",
       "</div>"
      ],
      "text/plain": [
       "      item sales_name  qty  unit_price  amount transaction_date   due_date\n",
       "0   Laptop    Sales A   20        1500   30000       2017-04-07 2017-05-07\n",
       "1       PC    Sales B   30        2000   60000       2018-02-02 2018-03-04\n",
       "2    Mouse    Sales C   10         120    1200       2017-12-30 2018-01-29\n",
       "3  Monitor    Sales A   40         400   16000       2017-11-02 2017-12-02"
      ]
     },
     "execution_count": 161,
     "metadata": {},
     "output_type": "execute_result"
    }
   ],
   "source": [
    "sales_data2017.head()"
   ]
  },
  {
   "cell_type": "markdown",
   "metadata": {},
   "source": [
    "## Display the last five rows of sales data\n",
    "\n",
    "Since the sales data contains only four rows, therefore there is no difference in the output between the first and the last five rows."
   ]
  },
  {
   "cell_type": "code",
   "execution_count": 162,
   "metadata": {},
   "outputs": [
    {
     "data": {
      "text/html": [
       "<div>\n",
       "<style scoped>\n",
       "    .dataframe tbody tr th:only-of-type {\n",
       "        vertical-align: middle;\n",
       "    }\n",
       "\n",
       "    .dataframe tbody tr th {\n",
       "        vertical-align: top;\n",
       "    }\n",
       "\n",
       "    .dataframe thead th {\n",
       "        text-align: right;\n",
       "    }\n",
       "</style>\n",
       "<table border=\"1\" class=\"dataframe\">\n",
       "  <thead>\n",
       "    <tr style=\"text-align: right;\">\n",
       "      <th></th>\n",
       "      <th>item</th>\n",
       "      <th>sales_name</th>\n",
       "      <th>qty</th>\n",
       "      <th>unit_price</th>\n",
       "      <th>amount</th>\n",
       "      <th>transaction_date</th>\n",
       "      <th>due_date</th>\n",
       "    </tr>\n",
       "  </thead>\n",
       "  <tbody>\n",
       "    <tr>\n",
       "      <th>0</th>\n",
       "      <td>Laptop</td>\n",
       "      <td>Sales A</td>\n",
       "      <td>20</td>\n",
       "      <td>1500</td>\n",
       "      <td>30000</td>\n",
       "      <td>2017-04-07</td>\n",
       "      <td>2017-05-07</td>\n",
       "    </tr>\n",
       "    <tr>\n",
       "      <th>1</th>\n",
       "      <td>PC</td>\n",
       "      <td>Sales B</td>\n",
       "      <td>30</td>\n",
       "      <td>2000</td>\n",
       "      <td>60000</td>\n",
       "      <td>2018-02-02</td>\n",
       "      <td>2018-03-04</td>\n",
       "    </tr>\n",
       "    <tr>\n",
       "      <th>2</th>\n",
       "      <td>Mouse</td>\n",
       "      <td>Sales C</td>\n",
       "      <td>10</td>\n",
       "      <td>120</td>\n",
       "      <td>1200</td>\n",
       "      <td>2017-12-30</td>\n",
       "      <td>2018-01-29</td>\n",
       "    </tr>\n",
       "    <tr>\n",
       "      <th>3</th>\n",
       "      <td>Monitor</td>\n",
       "      <td>Sales A</td>\n",
       "      <td>40</td>\n",
       "      <td>400</td>\n",
       "      <td>16000</td>\n",
       "      <td>2017-11-02</td>\n",
       "      <td>2017-12-02</td>\n",
       "    </tr>\n",
       "  </tbody>\n",
       "</table>\n",
       "</div>"
      ],
      "text/plain": [
       "      item sales_name  qty  unit_price  amount transaction_date   due_date\n",
       "0   Laptop    Sales A   20        1500   30000       2017-04-07 2017-05-07\n",
       "1       PC    Sales B   30        2000   60000       2018-02-02 2018-03-04\n",
       "2    Mouse    Sales C   10         120    1200       2017-12-30 2018-01-29\n",
       "3  Monitor    Sales A   40         400   16000       2017-11-02 2017-12-02"
      ]
     },
     "execution_count": 162,
     "metadata": {},
     "output_type": "execute_result"
    }
   ],
   "source": [
    "sales_data2017.tail()"
   ]
  },
  {
   "cell_type": "markdown",
   "metadata": {},
   "source": [
    "## Getting information about the data types of the columns"
   ]
  },
  {
   "cell_type": "code",
   "execution_count": 163,
   "metadata": {},
   "outputs": [
    {
     "data": {
      "text/plain": [
       "item                        object\n",
       "sales_name                  object\n",
       "qty                          int64\n",
       "unit_price                   int64\n",
       "amount                       int64\n",
       "transaction_date    datetime64[ns]\n",
       "due_date            datetime64[ns]\n",
       "dtype: object"
      ]
     },
     "execution_count": 163,
     "metadata": {},
     "output_type": "execute_result"
    }
   ],
   "source": [
    "sales_data2017.dtypes"
   ]
  },
  {
   "cell_type": "markdown",
   "metadata": {},
   "source": [
    "## Check for missing values of each column"
   ]
  },
  {
   "cell_type": "code",
   "execution_count": 164,
   "metadata": {},
   "outputs": [
    {
     "data": {
      "text/plain": [
       "item                False\n",
       "sales_name          False\n",
       "qty                 False\n",
       "unit_price          False\n",
       "amount              False\n",
       "transaction_date    False\n",
       "due_date            False\n",
       "dtype: bool"
      ]
     },
     "execution_count": 164,
     "metadata": {},
     "output_type": "execute_result"
    }
   ],
   "source": [
    "sales_data2017.isnull().any()"
   ]
  },
  {
   "cell_type": "markdown",
   "metadata": {},
   "source": [
    "## Summary statistics of sales data"
   ]
  },
  {
   "cell_type": "code",
   "execution_count": 165,
   "metadata": {},
   "outputs": [
    {
     "data": {
      "text/html": [
       "<div>\n",
       "<style scoped>\n",
       "    .dataframe tbody tr th:only-of-type {\n",
       "        vertical-align: middle;\n",
       "    }\n",
       "\n",
       "    .dataframe tbody tr th {\n",
       "        vertical-align: top;\n",
       "    }\n",
       "\n",
       "    .dataframe thead th {\n",
       "        text-align: right;\n",
       "    }\n",
       "</style>\n",
       "<table border=\"1\" class=\"dataframe\">\n",
       "  <thead>\n",
       "    <tr style=\"text-align: right;\">\n",
       "      <th></th>\n",
       "      <th>qty</th>\n",
       "      <th>unit_price</th>\n",
       "      <th>amount</th>\n",
       "    </tr>\n",
       "  </thead>\n",
       "  <tbody>\n",
       "    <tr>\n",
       "      <th>count</th>\n",
       "      <td>4.000000</td>\n",
       "      <td>4.000000</td>\n",
       "      <td>4.000000</td>\n",
       "    </tr>\n",
       "    <tr>\n",
       "      <th>mean</th>\n",
       "      <td>25.000000</td>\n",
       "      <td>1005.000000</td>\n",
       "      <td>26800.000000</td>\n",
       "    </tr>\n",
       "    <tr>\n",
       "      <th>std</th>\n",
       "      <td>12.909944</td>\n",
       "      <td>891.496869</td>\n",
       "      <td>25063.120317</td>\n",
       "    </tr>\n",
       "    <tr>\n",
       "      <th>min</th>\n",
       "      <td>10.000000</td>\n",
       "      <td>120.000000</td>\n",
       "      <td>1200.000000</td>\n",
       "    </tr>\n",
       "    <tr>\n",
       "      <th>25%</th>\n",
       "      <td>17.500000</td>\n",
       "      <td>330.000000</td>\n",
       "      <td>12300.000000</td>\n",
       "    </tr>\n",
       "    <tr>\n",
       "      <th>50%</th>\n",
       "      <td>25.000000</td>\n",
       "      <td>950.000000</td>\n",
       "      <td>23000.000000</td>\n",
       "    </tr>\n",
       "    <tr>\n",
       "      <th>75%</th>\n",
       "      <td>32.500000</td>\n",
       "      <td>1625.000000</td>\n",
       "      <td>37500.000000</td>\n",
       "    </tr>\n",
       "    <tr>\n",
       "      <th>max</th>\n",
       "      <td>40.000000</td>\n",
       "      <td>2000.000000</td>\n",
       "      <td>60000.000000</td>\n",
       "    </tr>\n",
       "  </tbody>\n",
       "</table>\n",
       "</div>"
      ],
      "text/plain": [
       "             qty   unit_price        amount\n",
       "count   4.000000     4.000000      4.000000\n",
       "mean   25.000000  1005.000000  26800.000000\n",
       "std    12.909944   891.496869  25063.120317\n",
       "min    10.000000   120.000000   1200.000000\n",
       "25%    17.500000   330.000000  12300.000000\n",
       "50%    25.000000   950.000000  23000.000000\n",
       "75%    32.500000  1625.000000  37500.000000\n",
       "max    40.000000  2000.000000  60000.000000"
      ]
     },
     "execution_count": 165,
     "metadata": {},
     "output_type": "execute_result"
    }
   ],
   "source": [
    "sales_data2017.describe()"
   ]
  },
  {
   "cell_type": "markdown",
   "metadata": {},
   "source": [
    "##  Adding new column and its values\n",
    "\n",
    "Assuming the transactions in sales data are still outstanding and we'd like to calculate the overdue (in days) of each transaction, the checkOutstanding method below is the solution to get it. The method has one argument i.e. data and in our case is sales_data2017."
   ]
  },
  {
   "cell_type": "code",
   "execution_count": 166,
   "metadata": {},
   "outputs": [
    {
     "data": {
      "text/html": [
       "<div>\n",
       "<style scoped>\n",
       "    .dataframe tbody tr th:only-of-type {\n",
       "        vertical-align: middle;\n",
       "    }\n",
       "\n",
       "    .dataframe tbody tr th {\n",
       "        vertical-align: top;\n",
       "    }\n",
       "\n",
       "    .dataframe thead th {\n",
       "        text-align: right;\n",
       "    }\n",
       "</style>\n",
       "<table border=\"1\" class=\"dataframe\">\n",
       "  <thead>\n",
       "    <tr style=\"text-align: right;\">\n",
       "      <th></th>\n",
       "      <th>item</th>\n",
       "      <th>overdue</th>\n",
       "    </tr>\n",
       "  </thead>\n",
       "  <tbody>\n",
       "    <tr>\n",
       "      <th>0</th>\n",
       "      <td>Laptop</td>\n",
       "      <td>337 days</td>\n",
       "    </tr>\n",
       "    <tr>\n",
       "      <th>1</th>\n",
       "      <td>PC</td>\n",
       "      <td>36 days</td>\n",
       "    </tr>\n",
       "    <tr>\n",
       "      <th>2</th>\n",
       "      <td>Mouse</td>\n",
       "      <td>70 days</td>\n",
       "    </tr>\n",
       "    <tr>\n",
       "      <th>3</th>\n",
       "      <td>Monitor</td>\n",
       "      <td>128 days</td>\n",
       "    </tr>\n",
       "  </tbody>\n",
       "</table>\n",
       "</div>"
      ],
      "text/plain": [
       "      item  overdue\n",
       "0   Laptop 337 days\n",
       "1       PC  36 days\n",
       "2    Mouse  70 days\n",
       "3  Monitor 128 days"
      ]
     },
     "execution_count": 166,
     "metadata": {},
     "output_type": "execute_result"
    }
   ],
   "source": [
    "from datetime import date\n",
    "\n",
    "def checkOutstanding(data):\n",
    "    current_date = date.today()\n",
    "    due_date = data['due_date']\n",
    "    overdue = current_date - due_date\n",
    "    data[\"overdue\"] = overdue\n",
    "    return data.loc[data.index[0:], [\"item\",\"overdue\"]]\n",
    "\n",
    "checkOutstanding(sales_data2017)\n"
   ]
  },
  {
   "cell_type": "markdown",
   "metadata": {},
   "source": [
    "## New table structure after adding overdue column "
   ]
  },
  {
   "cell_type": "code",
   "execution_count": 167,
   "metadata": {},
   "outputs": [
    {
     "data": {
      "text/plain": [
       "item                         object\n",
       "sales_name                   object\n",
       "qty                           int64\n",
       "unit_price                    int64\n",
       "amount                        int64\n",
       "transaction_date     datetime64[ns]\n",
       "due_date             datetime64[ns]\n",
       "overdue             timedelta64[ns]\n",
       "dtype: object"
      ]
     },
     "execution_count": 167,
     "metadata": {},
     "output_type": "execute_result"
    }
   ],
   "source": [
    "sales_data2017.dtypes"
   ]
  },
  {
   "cell_type": "markdown",
   "metadata": {},
   "source": [
    "## Create a method to convert timedata to int"
   ]
  },
  {
   "cell_type": "code",
   "execution_count": 168,
   "metadata": {},
   "outputs": [
    {
     "data": {
      "text/html": [
       "<div>\n",
       "<style scoped>\n",
       "    .dataframe tbody tr th:only-of-type {\n",
       "        vertical-align: middle;\n",
       "    }\n",
       "\n",
       "    .dataframe tbody tr th {\n",
       "        vertical-align: top;\n",
       "    }\n",
       "\n",
       "    .dataframe thead th {\n",
       "        text-align: right;\n",
       "    }\n",
       "</style>\n",
       "<table border=\"1\" class=\"dataframe\">\n",
       "  <thead>\n",
       "    <tr style=\"text-align: right;\">\n",
       "      <th></th>\n",
       "      <th>item</th>\n",
       "      <th>sales_name</th>\n",
       "      <th>qty</th>\n",
       "      <th>unit_price</th>\n",
       "      <th>amount</th>\n",
       "      <th>transaction_date</th>\n",
       "      <th>due_date</th>\n",
       "      <th>overdue</th>\n",
       "    </tr>\n",
       "  </thead>\n",
       "  <tbody>\n",
       "    <tr>\n",
       "      <th>0</th>\n",
       "      <td>Laptop</td>\n",
       "      <td>Sales A</td>\n",
       "      <td>20</td>\n",
       "      <td>1500</td>\n",
       "      <td>30000</td>\n",
       "      <td>2017-04-07</td>\n",
       "      <td>2017-05-07</td>\n",
       "      <td>337</td>\n",
       "    </tr>\n",
       "    <tr>\n",
       "      <th>1</th>\n",
       "      <td>PC</td>\n",
       "      <td>Sales B</td>\n",
       "      <td>30</td>\n",
       "      <td>2000</td>\n",
       "      <td>60000</td>\n",
       "      <td>2018-02-02</td>\n",
       "      <td>2018-03-04</td>\n",
       "      <td>36</td>\n",
       "    </tr>\n",
       "    <tr>\n",
       "      <th>2</th>\n",
       "      <td>Mouse</td>\n",
       "      <td>Sales C</td>\n",
       "      <td>10</td>\n",
       "      <td>120</td>\n",
       "      <td>1200</td>\n",
       "      <td>2017-12-30</td>\n",
       "      <td>2018-01-29</td>\n",
       "      <td>70</td>\n",
       "    </tr>\n",
       "    <tr>\n",
       "      <th>3</th>\n",
       "      <td>Monitor</td>\n",
       "      <td>Sales A</td>\n",
       "      <td>40</td>\n",
       "      <td>400</td>\n",
       "      <td>16000</td>\n",
       "      <td>2017-11-02</td>\n",
       "      <td>2017-12-02</td>\n",
       "      <td>128</td>\n",
       "    </tr>\n",
       "  </tbody>\n",
       "</table>\n",
       "</div>"
      ],
      "text/plain": [
       "      item sales_name  qty  unit_price  amount transaction_date   due_date  \\\n",
       "0   Laptop    Sales A   20        1500   30000       2017-04-07 2017-05-07   \n",
       "1       PC    Sales B   30        2000   60000       2018-02-02 2018-03-04   \n",
       "2    Mouse    Sales C   10         120    1200       2017-12-30 2018-01-29   \n",
       "3  Monitor    Sales A   40         400   16000       2017-11-02 2017-12-02   \n",
       "\n",
       "  overdue  \n",
       "0     337  \n",
       "1      36  \n",
       "2      70  \n",
       "3     128  "
      ]
     },
     "execution_count": 168,
     "metadata": {},
     "output_type": "execute_result"
    }
   ],
   "source": [
    "def convertTimeDataToInt(d):\n",
    "    count = 0;\n",
    "    data = list(d['overdue'])\n",
    "    for i in data:\n",
    "        sales_data2017['overdue'][count] = i.days\n",
    "        count +=1\n",
    "    return sales_data2017\n",
    "            \n",
    "convertTimeDataToInt(sales_data2017)\n"
   ]
  },
  {
   "cell_type": "markdown",
   "metadata": {
    "collapsed": true
   },
   "source": [
    "## Plotting with matplotlib"
   ]
  },
  {
   "cell_type": "markdown",
   "metadata": {},
   "source": [
    "### Plot the total sales as of 31 December 2017"
   ]
  },
  {
   "cell_type": "code",
   "execution_count": 169,
   "metadata": {},
   "outputs": [
    {
     "data": {
      "image/png": "[encoded data removed]",
      "text/plain": [
       "<Figure size 432x288 with 3 Axes>"
      ]
     },
     "metadata": {},
     "output_type": "display_data"
    }
   ],
   "source": [
    "item = sales_data2017['item']\n",
    "name = sales_data2017['sales_name']\n",
    "sales = sales_data2017['amount']\n",
    "overdue = sales_data2017['overdue']\n",
    "colors = ['maroon','g','b','y']\n",
    "\n",
    "def scatterPlot(data): \n",
    "    plt.title(\"Total Sales\\nas of 31 December 2017\")\n",
    "    plt.xlabel(\"Sales\")\n",
    "    plt.ylabel(\"Items\")\n",
    "    plt.subplot(221)\n",
    "    return plt.scatter(item, sales, color =colors, alpha=0.5)\n",
    "\n",
    "def barCharPlot(data):\n",
    "    plt.title(\"Total Sales\\nas of 31 December 2017\")\n",
    "    plt.xlabel(\"Product\")\n",
    "    plt.ylabel(\"Sales\")\n",
    "    plt.subplot(222)\n",
    "    return plt.bar(item, sales, color=colors, alpha=0.5)\n",
    "\n",
    "def barhPlot(data):\n",
    "    plt.title(\"Total Sales\\nas of 31 December 2017\")\n",
    "    plt.xlabel(\"Product\")\n",
    "    plt.ylabel(\"Sales\")\n",
    "    plt.subplot(223)\n",
    "    return plt.barh(item, sales, color=colors, alpha=0.5)\n",
    "\n",
    "scatterPlot(sales_data2017)\n",
    "barCharPlot(sales_data2017)\n",
    "barhPlot(sales_data2017)\n",
    "\n",
    "plt.subplots_adjust(top=0.92, bottom=0.08, left=0.75, right=2.5, hspace=0.70, wspace=0.2)"
   ]
  },
  {
   "cell_type": "markdown",
   "metadata": {},
   "source": [
    "Notes: The idea of the plots above is just to show the matplotlib's subplot feature, they exactly containing the same data."
   ]
  },
  {
   "cell_type": "markdown",
   "metadata": {},
   "source": [
    "### Plot the outstanding transactions "
   ]
  },
  {
   "cell_type": "markdown",
   "metadata": {},
   "source": [
    "#### Sales and Overdue (in days)"
   ]
  },
  {
   "cell_type": "code",
   "execution_count": 170,
   "metadata": {},
   "outputs": [
    {
     "data": {
      "text/plain": [
       "<matplotlib.collections.PathCollection at 0x1e13c15d8d0>"
      ]
     },
     "execution_count": 170,
     "metadata": {},
     "output_type": "execute_result"
    },
    {
     "data": {
      "image/png": "[encoded data removed]",
      "text/plain": [
       "<Figure size 432x288 with 1 Axes>"
      ]
     },
     "metadata": {},
     "output_type": "display_data"
    }
   ],
   "source": [
    "def scatterPlot(data): \n",
    "    plt.title(\"The Outstanding Transactions\\nSales vs Overdue (in days)\")\n",
    "    plt.xlabel(\"Sales\")\n",
    "    plt.ylabel(\"Overdue (in days)\")\n",
    "    return plt.scatter(sales, overdue, color =colors, alpha=0.6)\n",
    "\n",
    "scatterPlot(sales_data2017)"
   ]
  },
  {
   "cell_type": "markdown",
   "metadata": {},
   "source": [
    "#### Overdue (in days) by Sales Name"
   ]
  },
  {
   "cell_type": "code",
   "execution_count": 171,
   "metadata": {},
   "outputs": [
    {
     "data": {
      "text/plain": [
       "<BarContainer object of 4 artists>"
      ]
     },
     "execution_count": 171,
     "metadata": {},
     "output_type": "execute_result"
    },
    {
     "data": {
      "image/png": "[encoded data removed]",
      "text/plain": [
       "<Figure size 432x288 with 1 Axes>"
      ]
     },
     "metadata": {},
     "output_type": "display_data"
    }
   ],
   "source": [
    "def barCharPlot(data):\n",
    "    plt.title(\"Overdue by Sales Name\")\n",
    "    plt.xlabel(\"Sales\")\n",
    "    plt.ylabel(\"Overdue (in days)\")\n",
    "    return plt.bar(name, overdue, color=colors, alpha=0.5)\n",
    "\n",
    "\n",
    "barCharPlot(sales_data2017)\n"
   ]
  },
  {
   "cell_type": "markdown",
   "metadata": {},
   "source": [
    "#### Total Sales by Sales Name"
   ]
  },
  {
   "cell_type": "code",
   "execution_count": 156,
   "metadata": {},
   "outputs": [
    {
     "data": {
      "text/plain": [
       "<BarContainer object of 4 artists>"
      ]
     },
     "execution_count": 156,
     "metadata": {},
     "output_type": "execute_result"
    },
    {
     "data": {
      "image/png": "[encoded data removed]",
      "text/plain": [
       "<Figure size 432x288 with 1 Axes>"
      ]
     },
     "metadata": {},
     "output_type": "display_data"
    }
   ],
   "source": [
    "def barhPlot(data):\n",
    "    plt.title(\"Total Sales by Sales Name\")\n",
    "    plt.xlabel(\"Sales Name\")\n",
    "    plt.ylabel(\"Overdue (in days)\")\n",
    "    return plt.barh(name, sales, color=colors, alpha=0.5)\n",
    "\n",
    "barhPlot(sales_data2017)"
   ]
  }
 ],
 "metadata": {
  "kernelspec": {
   "display_name": "Python 3",
   "language": "python",
   "name": "python3"
  },
  "language_info": {
   "codemirror_mode": {
    "name": "ipython",
    "version": 3
   },
   "file_extension": ".py",
   "mimetype": "text/x-python",
   "name": "python",
   "nbconvert_exporter": "python",
   "pygments_lexer": "ipython3",
   "version": "3.6.3"
  }
 },
 "nbformat": 4,
 "nbformat_minor": 2
}
