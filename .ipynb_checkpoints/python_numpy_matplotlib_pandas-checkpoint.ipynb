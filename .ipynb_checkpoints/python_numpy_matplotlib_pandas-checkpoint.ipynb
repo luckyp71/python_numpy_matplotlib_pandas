{
 "cells": [
  {
   "cell_type": "markdown",
   "metadata": {},
   "source": [
    "<h1 align=\"center\"> Data Analysis using Numpy, Matplotlib, and Pandas in Python</h1>\n",
    "<br/><br/>\n",
    "![title](resources/python.png)"
   ]
  },
  {
   "cell_type": "markdown",
   "metadata": {},
   "source": [
    "## Importing the libraries needed\n",
    "Here we are importing: \n",
    "1. Numpy for creating array and numerical calculations\n",
    "2. Matplotlib for plotting \n",
    "3. Seaborn for beautifying the plot\n",
    "4. Pandas for data analysis"
   ]
  },
  {
   "cell_type": "code",
   "execution_count": 1,
   "metadata": {
    "collapsed": true
   },
   "outputs": [],
   "source": [
    "import numpy as np\n",
    "import matplotlib.pyplot as plt\n",
    "import seaborn\n",
    "import pandas as pd\n",
    "\n",
    "# Uncomment the code below to check the available plotting style\n",
    "#print(plt.style.available)\n",
    "\n",
    "%matplotlib inline\n",
    "plt.style.use(\"fivethirtyeight\")\n",
    "seaborn.set()"
   ]
  },
  {
   "cell_type": "markdown",
   "metadata": {},
   "source": [
    "## Read excel file\n",
    "\n",
    "The file is included in this porject, you could find it under resources directory."
   ]
  },
  {
   "cell_type": "code",
   "execution_count": 2,
   "metadata": {
    "collapsed": true
   },
   "outputs": [],
   "source": [
    "sales_data2017 = pd.read_excel(\"resources/sales_data.xlsx\")"
   ]
  },
  {
   "cell_type": "markdown",
   "metadata": {},
   "source": [
    "## Display the first five rows of sales data  \n",
    "\n",
    "No matter how many rows your data have, with head method, only the first five rows that will be shown."
   ]
  },
  {
   "cell_type": "code",
   "execution_count": 3,
   "metadata": {
    "scrolled": true
   },
   "outputs": [
    {
     "data": {
      "text/html": [
       "<div>\n",
       "<style scoped>\n",
       "    .dataframe tbody tr th:only-of-type {\n",
       "        vertical-align: middle;\n",
       "    }\n",
       "\n",
       "    .dataframe tbody tr th {\n",
       "        vertical-align: top;\n",
       "    }\n",
       "\n",
       "    .dataframe thead th {\n",
       "        text-align: right;\n",
       "    }\n",
       "</style>\n",
       "<table border=\"1\" class=\"dataframe\">\n",
       "  <thead>\n",
       "    <tr style=\"text-align: right;\">\n",
       "      <th></th>\n",
       "      <th>item</th>\n",
       "      <th>sales_name</th>\n",
       "      <th>qty</th>\n",
       "      <th>unit_price</th>\n",
       "      <th>amount</th>\n",
       "      <th>transaction_date</th>\n",
       "      <th>due_date</th>\n",
       "    </tr>\n",
       "  </thead>\n",
       "  <tbody>\n",
       "    <tr>\n",
       "      <th>0</th>\n",
       "      <td>Laptop</td>\n",
       "      <td>Sales A</td>\n",
       "      <td>20</td>\n",
       "      <td>20</td>\n",
       "      <td>400</td>\n",
       "      <td>2017-04-07</td>\n",
       "      <td>2017-05-07</td>\n",
       "    </tr>\n",
       "    <tr>\n",
       "      <th>1</th>\n",
       "      <td>PC</td>\n",
       "      <td>Sales B</td>\n",
       "      <td>30</td>\n",
       "      <td>30</td>\n",
       "      <td>200</td>\n",
       "      <td>2018-02-02</td>\n",
       "      <td>2018-03-04</td>\n",
       "    </tr>\n",
       "    <tr>\n",
       "      <th>2</th>\n",
       "      <td>Mouse</td>\n",
       "      <td>Sales C</td>\n",
       "      <td>10</td>\n",
       "      <td>40</td>\n",
       "      <td>400</td>\n",
       "      <td>2017-12-30</td>\n",
       "      <td>2018-01-29</td>\n",
       "    </tr>\n",
       "    <tr>\n",
       "      <th>3</th>\n",
       "      <td>Monitor</td>\n",
       "      <td>Sales A</td>\n",
       "      <td>40</td>\n",
       "      <td>10</td>\n",
       "      <td>500</td>\n",
       "      <td>2017-11-02</td>\n",
       "      <td>2017-12-02</td>\n",
       "    </tr>\n",
       "  </tbody>\n",
       "</table>\n",
       "</div>"
      ],
      "text/plain": [
       "      item sales_name  qty  unit_price  amount transaction_date   due_date\n",
       "0   Laptop    Sales A   20          20     400       2017-04-07 2017-05-07\n",
       "1       PC    Sales B   30          30     200       2018-02-02 2018-03-04\n",
       "2    Mouse    Sales C   10          40     400       2017-12-30 2018-01-29\n",
       "3  Monitor    Sales A   40          10     500       2017-11-02 2017-12-02"
      ]
     },
     "execution_count": 3,
     "metadata": {},
     "output_type": "execute_result"
    }
   ],
   "source": [
    "sales_data2017.head()"
   ]
  },
  {
   "cell_type": "markdown",
   "metadata": {},
   "source": [
    "## Display the last five rows of sales data\n",
    "\n",
    "Since the sales data contains only four rows, therefore there is no difference in the output between the first and the last five rows."
   ]
  },
  {
   "cell_type": "code",
   "execution_count": 4,
   "metadata": {},
   "outputs": [
    {
     "data": {
      "text/html": [
       "<div>\n",
       "<style scoped>\n",
       "    .dataframe tbody tr th:only-of-type {\n",
       "        vertical-align: middle;\n",
       "    }\n",
       "\n",
       "    .dataframe tbody tr th {\n",
       "        vertical-align: top;\n",
       "    }\n",
       "\n",
       "    .dataframe thead th {\n",
       "        text-align: right;\n",
       "    }\n",
       "</style>\n",
       "<table border=\"1\" class=\"dataframe\">\n",
       "  <thead>\n",
       "    <tr style=\"text-align: right;\">\n",
       "      <th></th>\n",
       "      <th>item</th>\n",
       "      <th>sales_name</th>\n",
       "      <th>qty</th>\n",
       "      <th>unit_price</th>\n",
       "      <th>amount</th>\n",
       "      <th>transaction_date</th>\n",
       "      <th>due_date</th>\n",
       "    </tr>\n",
       "  </thead>\n",
       "  <tbody>\n",
       "    <tr>\n",
       "      <th>0</th>\n",
       "      <td>Laptop</td>\n",
       "      <td>Sales A</td>\n",
       "      <td>20</td>\n",
       "      <td>20</td>\n",
       "      <td>400</td>\n",
       "      <td>2017-04-07</td>\n",
       "      <td>2017-05-07</td>\n",
       "    </tr>\n",
       "    <tr>\n",
       "      <th>1</th>\n",
       "      <td>PC</td>\n",
       "      <td>Sales B</td>\n",
       "      <td>30</td>\n",
       "      <td>30</td>\n",
       "      <td>200</td>\n",
       "      <td>2018-02-02</td>\n",
       "      <td>2018-03-04</td>\n",
       "    </tr>\n",
       "    <tr>\n",
       "      <th>2</th>\n",
       "      <td>Mouse</td>\n",
       "      <td>Sales C</td>\n",
       "      <td>10</td>\n",
       "      <td>40</td>\n",
       "      <td>400</td>\n",
       "      <td>2017-12-30</td>\n",
       "      <td>2018-01-29</td>\n",
       "    </tr>\n",
       "    <tr>\n",
       "      <th>3</th>\n",
       "      <td>Monitor</td>\n",
       "      <td>Sales A</td>\n",
       "      <td>40</td>\n",
       "      <td>10</td>\n",
       "      <td>500</td>\n",
       "      <td>2017-11-02</td>\n",
       "      <td>2017-12-02</td>\n",
       "    </tr>\n",
       "  </tbody>\n",
       "</table>\n",
       "</div>"
      ],
      "text/plain": [
       "      item sales_name  qty  unit_price  amount transaction_date   due_date\n",
       "0   Laptop    Sales A   20          20     400       2017-04-07 2017-05-07\n",
       "1       PC    Sales B   30          30     200       2018-02-02 2018-03-04\n",
       "2    Mouse    Sales C   10          40     400       2017-12-30 2018-01-29\n",
       "3  Monitor    Sales A   40          10     500       2017-11-02 2017-12-02"
      ]
     },
     "execution_count": 4,
     "metadata": {},
     "output_type": "execute_result"
    }
   ],
   "source": [
    "sales_data2017.tail()"
   ]
  },
  {
   "cell_type": "markdown",
   "metadata": {},
   "source": [
    "## Summary Statistics of Sales Data"
   ]
  },
  {
   "cell_type": "code",
   "execution_count": 5,
   "metadata": {},
   "outputs": [
    {
     "data": {
      "text/html": [
       "<div>\n",
       "<style scoped>\n",
       "    .dataframe tbody tr th:only-of-type {\n",
       "        vertical-align: middle;\n",
       "    }\n",
       "\n",
       "    .dataframe tbody tr th {\n",
       "        vertical-align: top;\n",
       "    }\n",
       "\n",
       "    .dataframe thead th {\n",
       "        text-align: right;\n",
       "    }\n",
       "</style>\n",
       "<table border=\"1\" class=\"dataframe\">\n",
       "  <thead>\n",
       "    <tr style=\"text-align: right;\">\n",
       "      <th></th>\n",
       "      <th>qty</th>\n",
       "      <th>unit_price</th>\n",
       "      <th>amount</th>\n",
       "    </tr>\n",
       "  </thead>\n",
       "  <tbody>\n",
       "    <tr>\n",
       "      <th>count</th>\n",
       "      <td>4.000000</td>\n",
       "      <td>4.000000</td>\n",
       "      <td>4.000000</td>\n",
       "    </tr>\n",
       "    <tr>\n",
       "      <th>mean</th>\n",
       "      <td>25.000000</td>\n",
       "      <td>25.000000</td>\n",
       "      <td>375.000000</td>\n",
       "    </tr>\n",
       "    <tr>\n",
       "      <th>std</th>\n",
       "      <td>12.909944</td>\n",
       "      <td>12.909944</td>\n",
       "      <td>125.830574</td>\n",
       "    </tr>\n",
       "    <tr>\n",
       "      <th>min</th>\n",
       "      <td>10.000000</td>\n",
       "      <td>10.000000</td>\n",
       "      <td>200.000000</td>\n",
       "    </tr>\n",
       "    <tr>\n",
       "      <th>25%</th>\n",
       "      <td>17.500000</td>\n",
       "      <td>17.500000</td>\n",
       "      <td>350.000000</td>\n",
       "    </tr>\n",
       "    <tr>\n",
       "      <th>50%</th>\n",
       "      <td>25.000000</td>\n",
       "      <td>25.000000</td>\n",
       "      <td>400.000000</td>\n",
       "    </tr>\n",
       "    <tr>\n",
       "      <th>75%</th>\n",
       "      <td>32.500000</td>\n",
       "      <td>32.500000</td>\n",
       "      <td>425.000000</td>\n",
       "    </tr>\n",
       "    <tr>\n",
       "      <th>max</th>\n",
       "      <td>40.000000</td>\n",
       "      <td>40.000000</td>\n",
       "      <td>500.000000</td>\n",
       "    </tr>\n",
       "  </tbody>\n",
       "</table>\n",
       "</div>"
      ],
      "text/plain": [
       "             qty  unit_price      amount\n",
       "count   4.000000    4.000000    4.000000\n",
       "mean   25.000000   25.000000  375.000000\n",
       "std    12.909944   12.909944  125.830574\n",
       "min    10.000000   10.000000  200.000000\n",
       "25%    17.500000   17.500000  350.000000\n",
       "50%    25.000000   25.000000  400.000000\n",
       "75%    32.500000   32.500000  425.000000\n",
       "max    40.000000   40.000000  500.000000"
      ]
     },
     "execution_count": 5,
     "metadata": {},
     "output_type": "execute_result"
    }
   ],
   "source": [
    "sales_data2017.describe()"
   ]
  },
  {
   "cell_type": "markdown",
   "metadata": {},
   "source": [
    "##  Adding new column and its values\n",
    "\n",
    "Assuming the transactions in sales data are still outstanding and we'd like to calculate the overdue (in days) of each transaction, the checkOutstanding method below is the solution to get it. The method has one argument i.e. data and in our case is sales_data2017."
   ]
  },
  {
   "cell_type": "code",
   "execution_count": 6,
   "metadata": {},
   "outputs": [
    {
     "data": {
      "text/html": [
       "<div>\n",
       "<style scoped>\n",
       "    .dataframe tbody tr th:only-of-type {\n",
       "        vertical-align: middle;\n",
       "    }\n",
       "\n",
       "    .dataframe tbody tr th {\n",
       "        vertical-align: top;\n",
       "    }\n",
       "\n",
       "    .dataframe thead th {\n",
       "        text-align: right;\n",
       "    }\n",
       "</style>\n",
       "<table border=\"1\" class=\"dataframe\">\n",
       "  <thead>\n",
       "    <tr style=\"text-align: right;\">\n",
       "      <th></th>\n",
       "      <th>item</th>\n",
       "      <th>overdue</th>\n",
       "    </tr>\n",
       "  </thead>\n",
       "  <tbody>\n",
       "    <tr>\n",
       "      <th>0</th>\n",
       "      <td>Laptop</td>\n",
       "      <td>336 days</td>\n",
       "    </tr>\n",
       "    <tr>\n",
       "      <th>1</th>\n",
       "      <td>PC</td>\n",
       "      <td>35 days</td>\n",
       "    </tr>\n",
       "    <tr>\n",
       "      <th>2</th>\n",
       "      <td>Mouse</td>\n",
       "      <td>69 days</td>\n",
       "    </tr>\n",
       "    <tr>\n",
       "      <th>3</th>\n",
       "      <td>Monitor</td>\n",
       "      <td>127 days</td>\n",
       "    </tr>\n",
       "  </tbody>\n",
       "</table>\n",
       "</div>"
      ],
      "text/plain": [
       "      item  overdue\n",
       "0   Laptop 336 days\n",
       "1       PC  35 days\n",
       "2    Mouse  69 days\n",
       "3  Monitor 127 days"
      ]
     },
     "execution_count": 6,
     "metadata": {},
     "output_type": "execute_result"
    }
   ],
   "source": [
    "from datetime import date\n",
    "\n",
    "def checkOutstanding(data):\n",
    "    current_date = date.today()\n",
    "    due_date = data['due_date']\n",
    "    overdue = current_date - due_date\n",
    "    data[\"overdue\"] = overdue\n",
    "    return data.loc[data.index[0:], [\"item\",\"overdue\"]]\n",
    "\n",
    "checkOutstanding(sales_data2017)\n"
   ]
  },
  {
   "cell_type": "markdown",
   "metadata": {
    "collapsed": true
   },
   "source": [
    "## Plotting with matplotlib"
   ]
  },
  {
   "cell_type": "code",
   "execution_count": 12,
   "metadata": {},
   "outputs": [
    {
     "data": {
      "image/png": "[encoded data removed]",
      "text/plain": [
       "<Figure size 432x288 with 3 Axes>"
      ]
     },
     "metadata": {},
     "output_type": "display_data"
    }
   ],
   "source": [
    "item = sales_data2017['item']\n",
    "sales = sales_data2017['amount']\n",
    "overdue = sales_data2017['overdue']\n",
    "colors = ['maroon','g','b','y']\n",
    "\n",
    "def scatterPlot(data): \n",
    "    plt.title(\"Total Sales\\nas of 31 December 2017\")\n",
    "    plt.xlabel(\"Sales in $1000\")\n",
    "    plt.ylabel(\"Items\")\n",
    "    plt.subplot(221)\n",
    "    return plt.scatter(item, sales, color =colors, alpha=0.5)\n",
    "\n",
    "def barCharPlot(data):\n",
    "    plt.title(\"Total Sales\\nas of 31 December 2017\")\n",
    "    plt.xlabel(\"Sales\")\n",
    "    plt.ylabel(\"Overdue\")\n",
    "    plt.subplot(222)\n",
    "    return plt.bar(item, sales, color=colors, alpha=0.5)\n",
    "\n",
    "def barhPlot(data):\n",
    "    plt.title(\"Total Sales\\nas of 31 December 2017\")\n",
    "    plt.xlabel(\"Sales\")\n",
    "    plt.ylabel(\"Overdue\")\n",
    "    plt.subplot(223)\n",
    "    return plt.barh(item, sales, color=colors, alpha=0.5)\n",
    "\n",
    "scatterPlot(sales_data2017)\n",
    "barCharPlot(sales_data2017)\n",
    "barhPlot(sales_data2017)\n",
    "\n",
    "plt.subplots_adjust(top=0.92, bottom=0.08, left=0.75, right=2.5, hspace=0.70, wspace=0.2)"
   ]
  },
  {
   "cell_type": "markdown",
   "metadata": {},
   "source": [
    "Notes: The idea of the plots above is just to show the matplotlib's subplot feature, they exactly containing the same data."
   ]
  }
 ],
 "metadata": {
  "kernelspec": {
   "display_name": "Python 3",
   "language": "python",
   "name": "python3"
  },
  "language_info": {
   "codemirror_mode": {
    "name": "ipython",
    "version": 3
   },
   "file_extension": ".py",
   "mimetype": "text/x-python",
   "name": "python",
   "nbconvert_exporter": "python",
   "pygments_lexer": "ipython3",
   "version": "3.6.3"
  }
 },
 "nbformat": 4,
 "nbformat_minor": 2
}
